{
 "cells": [
  {
   "cell_type": "markdown",
   "metadata": {
    "pycharm": {
     "name": "#%% md\n"
    }
   },
   "source": [
    "# RLLBC Bonus Point Assignment II Part B\n",
    "<div style=\"text-align: right;font-size: 0.8em\">Document Version 1.0.0, released 2022-06-24</div>\n",
    "For task instructions, refer to the assignment PDF.\n",
    "\n",
    "* The parts of the code you are to implement are indicated via `# TODO` comments.\n",
    "* You can use the `# Test code` cells to verify your implementation. However note that these are not the unit tests used for grading.\n",
    "* Some cells create export file in the `solution/` folder. _Include whole `solution/` folder in your submission_.\n",
    "* DO NOT CLEAR THE OUTPUT of the notebook you are submitting!"
   ]
  },
  {
   "cell_type": "code",
   "execution_count": 1,
   "metadata": {
    "pycharm": {
     "name": "#%%\n"
    }
   },
   "outputs": [
    {
     "name": "stderr",
     "output_type": "stream",
     "text": [
      "c:\\Users\\fmdaz\\AppData\\Local\\Programs\\Python\\Python310\\lib\\site-packages\\tqdm\\auto.py:22: TqdmWarning: IProgress not found. Please update jupyter and ipywidgets. See https://ipywidgets.readthedocs.io/en/stable/user_install.html\n",
      "  from .autonotebook import tqdm as notebook_tqdm\n"
     ]
    }
   ],
   "source": [
    "# General imports\n",
    "from pathlib import Path\n",
    "from copy import deepcopy\n",
    "import numpy as np\n",
    "import pandas as pd\n",
    "import matplotlib.pyplot as plt\n",
    "import seaborn as sns\n",
    "import gym\n",
    "from tqdm.auto import tqdm\n",
    "\n",
    "# Create solution folder\n",
    "Path(\"solution/\").mkdir(exist_ok=True)"
   ]
  },
  {
   "cell_type": "markdown",
   "metadata": {
    "pycharm": {
     "name": "#%% md\n"
    }
   },
   "source": [
    "## Question B1 - Deep Q-Networks\n",
    "### a) Implement Replay Buffer"
   ]
  },
  {
   "cell_type": "code",
   "execution_count": 24,
   "metadata": {
    "pycharm": {
     "name": "#%%\n"
    }
   },
   "outputs": [],
   "source": [
    "class ReplayBuffer(object):\n",
    "    def __init__(self, mem_size, state_shape):\n",
    "        \"\"\"Initialization of the replay buffer.\n",
    "        \n",
    "        The memories have the following data types:\n",
    "            states: float32\n",
    "            next_states: float32\n",
    "            actions: int64\n",
    "            rewards: float32\n",
    "            is_terminal: bool\n",
    "\n",
    "        Args:\n",
    "            mem_size: Capacity of this buffer\n",
    "            state_shape: Shape of state and next_state\n",
    "        \"\"\"\n",
    "        self.mem_size = mem_size  # Capacity of the buffer\n",
    "        self.mem_cntr = 0         # Number of added elements\n",
    "        self.state_memory = np.zeros((self.mem_size, *state_shape), dtype=np.float32)\n",
    "        self.next_state_memory = np.zeros((self.mem_size, *state_shape), dtype=np.float32)\n",
    "        self.action_memory = np.zeros(self.mem_size, dtype=np.int64)\n",
    "        self.reward_memory = np.zeros(self.mem_size, dtype=np.float32)\n",
    "        self.terminal_memory = np.zeros(self.mem_size, dtype=np.bool)\n",
    "        self.state_shape = state_shape\n",
    "    def is_filled(self):\n",
    "        \"\"\"Check if the memory is filled.\"\"\"\n",
    "        return buffer.mem_cntr >= buffer.mem_size\n",
    "\n",
    "    def add(self, state, action, reward, next_state, is_terminal):\n",
    "        \"\"\"Add one transition to the buffer.\n",
    "\n",
    "        Replaces the oldest transition in memory.\n",
    "        \"\"\"\n",
    "        # TODO\n",
    "        i = self.mem_cntr % self.mem_size\n",
    "        \n",
    "        self.state_memory[i] = state\n",
    "        self.next_state_memory[i] = next_state\n",
    "        self.action_memory[i] = action\n",
    "        self.reward_memory[i] = reward\n",
    "        self.terminal_memory[i] = is_terminal\n",
    "        self.mem_cntr += 1\n",
    "\n",
    "       \n",
    "    def sample_batch(self, batch_size):\n",
    "        \"\"\"Sample one batch from the memory.\"\"\"\n",
    "        # TODO\n",
    "        \n",
    "        states, actions, rewards, next_states, is_terminal = [],[],[],[],[]\n",
    "        # states = np.array((batch_size,*self.state_shape),dtype=np.float32)\n",
    "        # actions = np.array(batch_size,dtype=np.int64)\n",
    "        # next_states = np.array((batch_size,*self.state_shape),dtype=np.float32)\n",
    "        # rewards = np.array(batch_size, dtype=np.float32)\n",
    "        # is_terminal =  np.array(batch_size, dtype=np.bool)\n",
    "        \n",
    "        indices = np.random.choice(self.mem_size, batch_size, replace=False)\n",
    "        for index in indices:\n",
    "            # index = int(np.random.choice(self.mem_size, batch_size))\n",
    "            states.append(self.state_memory[index])\n",
    "            actions.append(self.action_memory[index])\n",
    "            rewards.append(self.reward_memory[index])\n",
    "            next_states.append(self.next_state_memory[index])\n",
    "            is_terminal.append(self.terminal_memory[index])\n",
    "\n",
    "\n",
    "    #     idxs = np.random.choice(len(self.memory), batch_size)\n",
    "    #     return [self.memory[idx] for idx in idxs]\n",
    "\n",
    "    #     self.memory.append(item)\n",
    "    #     if self.n_entries < self.max_size:\n",
    "    #         self.n_entries += 1\n",
    "\n",
    "    #     indices = np.random.choice(len(self.buffer), batch_size,\n",
    "    #             replace=False)\n",
    "    #   states, actions, rewards, dones, next_states = \n",
    "    #          zip([self.buffer[idx] for idx in indices])\n",
    "    #   return np.array(states), np.array(actions),         \n",
    "    #          np.array(rewards,dtype=np.float32), \n",
    "    #          np.array(dones, dtype=np.uint8),    \n",
    "    #          np.array(next_states)\n",
    "\n",
    "\n",
    "            \n",
    "        return states, actions, rewards, next_states, is_terminal"
   ]
  },
  {
   "cell_type": "code",
   "execution_count": 29,
   "metadata": {
    "pycharm": {
     "name": "#%%\n"
    }
   },
   "outputs": [
    {
     "name": "stderr",
     "output_type": "stream",
     "text": [
      "C:\\Users\\fmdaz\\AppData\\Local\\Temp\\ipykernel_23696\\1473405718.py:22: DeprecationWarning: `np.bool` is a deprecated alias for the builtin `bool`. To silence this warning, use `bool` by itself. Doing this will not modify any behavior and is safe. If you specifically wanted the numpy scalar type, use `np.bool_` here.\n",
      "Deprecated in NumPy 1.20; for more details and guidance: https://numpy.org/devdocs/release/1.20.0-notes.html#deprecations\n",
      "  self.terminal_memory = np.zeros(self.mem_size, dtype=np.bool)\n"
     ]
    },
    {
     "data": {
      "text/plain": [
       "'ok'"
      ]
     },
     "execution_count": 29,
     "metadata": {},
     "output_type": "execute_result"
    }
   ],
   "source": [
    "# Test code\n",
    "_buffer = ReplayBuffer(10, (5, ))\n",
    "assert _buffer.mem_size == 10\n",
    "assert _buffer.mem_cntr == 0\n",
    "for i in range(10):  # Fill test values\n",
    "    _buffer.add(np.arange(5) + i, 5 + i, 6 + i, 7 + np.arange(5) + i, (12 + i) % 2 == 0)\n",
    "assert _buffer.mem_size == 10\n",
    "assert _buffer.mem_cntr == 10, \"Wrong mem_cntr\"\n",
    "\n",
    "_is = set()\n",
    "for s, a, r, s_, t in zip(*_buffer.sample_batch(5)):\n",
    "    i = s[0]\n",
    "    assert 0 <= i < 10, \"Wrong states\"\n",
    "    _is.add(i)\n",
    "    np.testing.assert_array_equal(s, np.arange(5) + i, err_msg=\"Wrong states\")\n",
    "    np.testing.assert_equal(a, 5 + i, err_msg=\"Wrong actions\")\n",
    "    np.testing.assert_equal(r, 6 + i, err_msg=\"Wrong rewards\")\n",
    "    np.testing.assert_array_equal(s_, 7 + np.arange(5) + i, err_msg=\"Wrong next states\")\n",
    "    np.testing.assert_equal(t, (12 + i) % 2 == 0, err_msg=\"Wrong terminals\")\n",
    "assert len(_is) == 5, \"Duplicate transitions\"\n",
    "\"ok\""
   ]
  },
  {
   "cell_type": "markdown",
   "metadata": {
    "pycharm": {
     "name": "#%% md\n"
    }
   },
   "source": [
    "### b) Fill replay buffer"
   ]
  },
  {
   "cell_type": "code",
   "execution_count": 4,
   "metadata": {
    "pycharm": {
     "name": "#%%\n"
    }
   },
   "outputs": [
    {
     "name": "stderr",
     "output_type": "stream",
     "text": [
      "c:\\Users\\fmdaz\\AppData\\Local\\Programs\\Python\\Python310\\lib\\site-packages\\gym\\utils\\passive_env_checker.py:97: UserWarning: \u001b[33mWARN: We recommend you to use a symmetric and normalized Box action space (range=[-1, 1]) https://stable-baselines3.readthedocs.io/en/master/guide/rl_tips.html\u001b[0m\n",
      "  logger.warn(\n",
      "C:\\Users\\fmdaz\\AppData\\Local\\Temp\\ipykernel_23696\\437225136.py:22: DeprecationWarning: `np.bool` is a deprecated alias for the builtin `bool`. To silence this warning, use `bool` by itself. Doing this will not modify any behavior and is safe. If you specifically wanted the numpy scalar type, use `np.bool_` here.\n",
      "Deprecated in NumPy 1.20; for more details and guidance: https://numpy.org/devdocs/release/1.20.0-notes.html#deprecations\n",
      "  self.terminal_memory = np.zeros(self.mem_size, dtype=np.bool)\n"
     ]
    }
   ],
   "source": [
    "env = gym.make('CartPole-v1')\n",
    "\n",
    "# Initialize replay buffer\n",
    "buffer = ReplayBuffer(mem_size=25000, state_shape=env.observation_space.shape)\n",
    "\n",
    "# ********************\n",
    "# TODO Sample transitions from environment and add to buffer\n",
    "for i in range(25000):\n",
    "    state = env.reset()\n",
    "    action = env.action_space.sample()\n",
    "    next_state, reward, is_terminal,_ = env.step(action)\n",
    "\n",
    "    buffer.add(state, action, reward, next_state, is_terminal)\n"
   ]
  },
  {
   "cell_type": "code",
   "execution_count": 5,
   "metadata": {
    "pycharm": {
     "name": "#%%\n"
    }
   },
   "outputs": [
    {
     "data": {
      "text/plain": [
       "'ok'"
      ]
     },
     "execution_count": 5,
     "metadata": {},
     "output_type": "execute_result"
    }
   ],
   "source": [
    "# Test code\n",
    "assert buffer.is_filled(), f\"Buffer not filled, only {buffer.mem_cntr}/{buffer.mem_size} transitions in memory\"\n",
    "\"ok\""
   ]
  },
  {
   "cell_type": "markdown",
   "metadata": {
    "pycharm": {
     "name": "#%% md\n"
    }
   },
   "source": [
    "## Question B2 - Deep Q-Networks\n",
    "### a) Define Q-Network"
   ]
  },
  {
   "cell_type": "code",
   "execution_count": 6,
   "metadata": {
    "pycharm": {
     "name": "#%%\n"
    }
   },
   "outputs": [],
   "source": [
    "import torch\n",
    "from torch import nn\n",
    "import torch.nn.functional as F\n",
    "\n",
    "class DeepQNetwork(nn.Module):\n",
    "    def __init__(self):\n",
    "        super(DeepQNetwork, self).__init__()\n",
    "        # TODO Create layers\n",
    "        self.layer1 = nn.Linear(4,128)\n",
    "        self.layer2 = nn.Linear(128,128)\n",
    "        self.layer3 = nn.Linear(128,2)\n",
    "\n",
    "\n",
    "\n",
    "\n",
    "    def forward(self, state):\n",
    "        # TODO Implement forward pass\n",
    "        Q = F.relu(self.layer1(state))\n",
    "        Q = self.layer2(Q)\n",
    "        Q = self.layer3(Q)\n",
    "        Q = F.softmax(Q,dim=1)\n",
    "       # ********************\n",
    "\n",
    "        return Q"
   ]
  },
  {
   "cell_type": "code",
   "execution_count": 7,
   "metadata": {
    "pycharm": {
     "name": "#%%\n"
    }
   },
   "outputs": [
    {
     "data": {
      "text/plain": [
       "'ok'"
      ]
     },
     "execution_count": 7,
     "metadata": {},
     "output_type": "execute_result"
    }
   ],
   "source": [
    "# Test code\n",
    "_test_output = DeepQNetwork()(torch.FloatTensor([[1, 2, 3, 4]]))\n",
    "assert _test_output.shape == (1, 2), f\"Expected output shape (1, 2), got {_test_output.shape}\"\n",
    "\"ok\""
   ]
  },
  {
   "cell_type": "markdown",
   "metadata": {
    "pycharm": {
     "name": "#%% md\n"
    }
   },
   "source": [
    "### b) $\\epsilon$-Greedy"
   ]
  },
  {
   "cell_type": "code",
   "execution_count": 8,
   "metadata": {
    "pycharm": {
     "name": "#%%\n"
    }
   },
   "outputs": [],
   "source": [
    "def epsilon_greedy(state, q_network, epsilon=0.05):\n",
    "    \"\"\"Perform epsilon-greedy action sampling.\n",
    "\n",
    "    Args:\n",
    "        state: numpy ndarray, current state\n",
    "        q_network: torch module\n",
    "\n",
    "    Returns:\n",
    "        action: one action\n",
    "    \"\"\"\n",
    "    # TODO Epsilon-greedy action sampling\n",
    "    # if np.random.random() > (1 - epsilon):\n",
    "    #     action = np.random.choice(env.action_space)\n",
    "    # else:\n",
    "    #     action = torch.argmax(q_network.forward(torch.Tensor([state])))\n",
    "    # action = int(action)\n",
    "\n",
    "    # if np.random.random() > (1 - epsilon):\n",
    "    #     action = np.random.choice(env.action_space)\n",
    "    # else:\n",
    "    #     self._local_q_network.eval()\n",
    "    #     with torch.no_grad():\n",
    "    #         action_values = self._local_q_network(torch.Tensor[state])\n",
    "    #     self._local_q_network.train()\n",
    "        \n",
    "        # states = self.state_shape(states)\n",
    "        # action_vals = self.model.predict(state) #Exploit: Use the NN to predict the correct action from this state\n",
    "        # return np.argmax(action_vals[0])\n",
    "        # action = np.argmax(q_network.forward(torch.tensor([state])))\n",
    "    \n",
    "    if np.random.rand() < epsilon:\n",
    "        action = env.action_space.sample()\n",
    "    else:\n",
    "        action = torch.argmax(q_network.forward(torch.tensor([state]))).item() \n",
    "\n",
    "    return action"
   ]
  },
  {
   "cell_type": "code",
   "execution_count": 9,
   "metadata": {
    "pycharm": {
     "name": "#%%\n"
    }
   },
   "outputs": [
    {
     "name": "stderr",
     "output_type": "stream",
     "text": [
      "C:\\Users\\fmdaz\\AppData\\Local\\Temp\\ipykernel_23696\\3728960984.py:34: UserWarning: Creating a tensor from a list of numpy.ndarrays is extremely slow. Please consider converting the list to a single numpy.ndarray with numpy.array() before converting to a tensor. (Triggered internally at  ..\\torch\\csrc\\utils\\tensor_new.cpp:210.)\n",
      "  action = torch.argmax(q_network.forward(torch.tensor([state]))).item()\n"
     ]
    },
    {
     "data": {
      "image/png": "[encoded data removed]",
      "text/plain": [
       "<Figure size 432x288 with 1 Axes>"
      ]
     },
     "metadata": {
      "needs_background": "light"
     },
     "output_type": "display_data"
    }
   ],
   "source": [
    "# Test Code\n",
    "class DummyModule(nn.Module):\n",
    "    def forward(self, state):\n",
    "        return torch.FloatTensor([1, 2])  # Constant output\n",
    "\n",
    "\n",
    "# Sample 1000 actions\n",
    "_actions = [epsilon_greedy(np.array([1, 2, 3, 4]), DummyModule(), epsilon=0.2) for _ in range(1000)]\n",
    "\n",
    "sns.histplot(_actions, discrete=True, stat=\"density\")\n",
    "plt.xticks([0, 1])\n",
    "plt.show()\n",
    "\n",
    "_zeros = 1000 - sum(_actions)\n",
    "# Note: This is a stochastic test. It produces a false error in 1% of the cases\n",
    "assert 75 < _zeros < 125, f\"Frequency of action 0 ({_zeros}) is outside the 99% confidence interval [76, 124]\""
   ]
  },
  {
   "cell_type": "markdown",
   "metadata": {
    "pycharm": {
     "name": "#%% md\n"
    }
   },
   "source": [
    "### c) Loss Function"
   ]
  },
  {
   "cell_type": "code",
   "execution_count": 10,
   "metadata": {
    "pycharm": {
     "name": "#%%\n"
    }
   },
   "outputs": [],
   "source": [
    "mse = nn.MSELoss()\n",
    "\n",
    "def compute_loss(q_network, target_network, states, actions, rewards, next_states, is_terminal, gamma=0.99):\n",
    "    # TODO Implement loss function\n",
    "    # qvals = ...\n",
    "    qvals = []\n",
    "    best_actions = []\n",
    "    target_qvals = []\n",
    "\n",
    "    # for s, ns, terminal in zip(states, next_states, is_terminal):\n",
    "\n",
    "    #     qvals.append(q_network(s).gather(1, actions)) # corresponding action?\n",
    "    #     best_actions.append(action = torch.argmax(qvals[-1]))\n",
    "    #     target_qvals.append(target_network(ns).detach().max(1)[0])\n",
    "    #     if terminal:\n",
    "    #         target_qvals[-1] = 0\n",
    "    # # expected_qvals = ...        \n",
    "    # expected_qval = []\n",
    "    # for tq, r in zip(target_qvals, rewards):\n",
    "    #     expected_qval.append(r + gamma*tq)\n",
    "\n",
    "    # loss = mse(qvals, expected_qvals.unsqueeze(1))\n",
    "    # # print(target_qvals.shape())\n",
    "\n",
    "\n",
    "    qvals = q_network.forward(states).squeeze(1)\n",
    "    target_qvals = target_network.forward(next_states).squeeze(1)\n",
    "    qvals = torch.sum(qvals.mul(actions), dim=1)\n",
    "    target_qvals[is_terminal] = 0\n",
    "    expected_qval = rewards + gamma * target_qvals.max(1)[0]\n",
    "\n",
    "\n",
    "    # qvals = q_network.forward(states).gather(1, actions.view(actions.size(0), 1))\n",
    "    # target_qvals = target_network.forward(next_states)\n",
    "    # target_qvals[is_terminal] = 0\n",
    "    # # dones = is_terminal.int().view(is_terminal.size(0))\n",
    "    # max_next_Q = torch.max(target_qvals, 1)[0]\n",
    "    # max_next_Q = max_next_Q.view(max_next_Q.size(0), 1)\n",
    "    # expected_qval = rewards + gamma * max_next_Q\n",
    "\n",
    "    loss = mse(qvals, expected_qval.detach())\n",
    "\n",
    "\n",
    "    return loss"
   ]
  },
  {
   "cell_type": "markdown",
   "metadata": {
    "pycharm": {
     "name": "#%% md\n"
    }
   },
   "source": [
    "### d) Training"
   ]
  },
  {
   "cell_type": "code",
   "execution_count": 11,
   "metadata": {
    "pycharm": {
     "name": "#%%\n"
    }
   },
   "outputs": [
    {
     "name": "stderr",
     "output_type": "stream",
     "text": [
      "  0%|          | 0/10000 [00:00<?, ?it/s]C:\\Users\\fmdaz\\AppData\\Local\\Temp\\ipykernel_23696\\366323233.py:43: DeprecationWarning: In future, it will be an error for 'np.bool_' scalars to be interpreted as an index\n",
      "  terminal_batch = torch.BoolTensor(terminal_batch)\n",
      "c:\\Users\\fmdaz\\AppData\\Local\\Programs\\Python\\Python310\\lib\\site-packages\\torch\\nn\\modules\\loss.py:529: UserWarning: Using a target size (torch.Size([64, 64])) that is different to the input size (torch.Size([64])). This will likely lead to incorrect results due to broadcasting. Please ensure they have the same size.\n",
      "  return F.mse_loss(input, target, reduction=self.reduction)\n",
      "Mean training reward 9.96: 100%|██████████| 10000/10000 [03:17<00:00, 50.71it/s]\n"
     ]
    },
    {
     "data": {
      "image/png": "[encoded data removed]",
      "text/plain": [
       "<Figure size 432x288 with 1 Axes>"
      ]
     },
     "metadata": {
      "needs_background": "light"
     },
     "output_type": "display_data"
    }
   ],
   "source": [
    "# Hyperparameters\n",
    "epsilon = 0.05  # For epsilon greedy action sampling\n",
    "batch_size = 64\n",
    "NETWORK_UPDATE_FREQUENCY = 4\n",
    "NETWORK_SYNC_FREQUENCY = 2000\n",
    "gamma = 0.99\n",
    "episodes = 10000\n",
    "replay_buffer_size = 100 #TODO\n",
    "\n",
    "\n",
    "q_network = DeepQNetwork()\n",
    "target_network = deepcopy(q_network)\n",
    "optimizer = torch.optim.Adam(q_network.parameters(), lr=1e-3)\n",
    "mse = nn.MSELoss()\n",
    "\n",
    "step_count = 0\n",
    "total_rewards = []\n",
    "with tqdm(range(episodes)) as pbar:\n",
    "    for _ in pbar:\n",
    "        state, done = env.reset(), False\n",
    "        rewards = []\n",
    "\n",
    "        while not done:\n",
    "            # Take a step\n",
    "            action = epsilon_greedy(state, q_network, epsilon=epsilon)\n",
    "            next_state, reward, done, _ = env.step(action)\n",
    "\n",
    "            # Bookkeeping\n",
    "            rewards.append(reward)\n",
    "            buffer.add(state=state, action=action, reward=reward, next_state=next_state, is_terminal=done and env._elapsed_steps < 500)\n",
    "            state = next_state\n",
    "\n",
    "            step_count += 1\n",
    "\n",
    "            # Update network every NETWORK_UPDATE_FREQUENCY steps\n",
    "            if step_count % NETWORK_UPDATE_FREQUENCY == 0:\n",
    "                # Sample batch of transitions\n",
    "                state_batch, action_batch, reward_batch, next_state_batch, terminal_batch = buffer.sample_batch(batch_size=batch_size)\n",
    "                state_batch = torch.FloatTensor(state_batch)\n",
    "                next_state_batch = torch.FloatTensor(next_state_batch)\n",
    "                action_batch = torch.LongTensor(action_batch).reshape(-1, 1)\n",
    "                reward_batch = torch.FloatTensor(reward_batch).reshape(-1, 1)\n",
    "                terminal_batch = torch.BoolTensor(terminal_batch)\n",
    "\n",
    "                # Compute loss\n",
    "                loss = compute_loss(q_network, target_network, state_batch, action_batch, reward_batch, next_state_batch, terminal_batch, gamma)\n",
    "                \n",
    "                optimizer.zero_grad()\n",
    "                loss.backward()\n",
    "                optimizer.step()\n",
    "           \n",
    "            # Sync networks every NETWORK_SYNC_FREQUENCY steps\n",
    "            if step_count % NETWORK_SYNC_FREQUENCY == 0:\n",
    "                # ********************\n",
    "                # TODO Synchronize networks\n",
    "                target_network.load_state_dict(q_network.state_dict())\n",
    "                # tau = 1*1e-2\n",
    "                # for target_param, local_param in zip(target_network.parameters(), q_network.parameters()): #<- soft update\n",
    "                #             target_param.data.copy_(tau*local_param.data + (1.0 - tau)*target_param.data)\n",
    "                # target_network.parameters().data = q_network.parameters().data\n",
    "\n",
    "\n",
    "\n",
    "                # ********************\n",
    "\n",
    "        total_rewards.append(sum(rewards))\n",
    "\n",
    "         # Print statistics\n",
    "        pbar.set_description(f\"Mean training reward {np.mean(total_rewards[-100:]):.02f}\")\n",
    "        if np.mean(total_rewards[-100:]) == 500:\n",
    "            break # Stop training\n",
    "        \n",
    "\n",
    "# Save model\n",
    "with open(\"solution/b2d.pt\", \"wb\") as f:\n",
    "    torch.save(q_network, f)\n",
    "\n",
    "# Plot training\n",
    "plt.plot(total_rewards, label=\"per episode\")\n",
    "plt.plot(pd.DataFrame(total_rewards).rolling(100).mean(), label=\"average reward\")\n",
    "plt.xlabel(\"epoch\")\n",
    "plt.ylabel(\"reward\")\n",
    "plt.legend()\n",
    "plt.tight_layout()\n",
    "plt.savefig(\"solution/b2d.png\")"
   ]
  },
  {
   "cell_type": "code",
   "execution_count": 12,
   "metadata": {
    "pycharm": {
     "name": "#%%\n"
    }
   },
   "outputs": [
    {
     "name": "stderr",
     "output_type": "stream",
     "text": [
      "Validating: 100%|██████████| 100/100 [00:00<00:00, 248.19it/s]\n"
     ]
    },
    {
     "ename": "AssertionError",
     "evalue": "Average reward below 487.5, got 9.44",
     "output_type": "error",
     "traceback": [
      "\u001b[1;31m---------------------------------------------------------------------------\u001b[0m",
      "\u001b[1;31mAssertionError\u001b[0m                            Traceback (most recent call last)",
      "\u001b[1;32mc:\\Users\\fmdaz\\Desktop\\RL_BPA2\\tasks\\dqn.ipynb Cell 19\u001b[0m in \u001b[0;36m<cell line: 17>\u001b[1;34m()\u001b[0m\n\u001b[0;32m     <a href='vscode-notebook-cell:/c%3A/Users/fmdaz/Desktop/RL_BPA2/tasks/dqn.ipynb#ch0000018?line=12'>13</a>\u001b[0m     \u001b[39mreturn\u001b[39;00m env\u001b[39m.\u001b[39m_elapsed_steps\n\u001b[0;32m     <a href='vscode-notebook-cell:/c%3A/Users/fmdaz/Desktop/RL_BPA2/tasks/dqn.ipynb#ch0000018?line=15'>16</a>\u001b[0m _avg_reward \u001b[39m=\u001b[39m np\u001b[39m.\u001b[39mmean([_rollout(seed\u001b[39m=\u001b[39mi) \u001b[39mfor\u001b[39;00m i \u001b[39min\u001b[39;00m tqdm(\u001b[39mrange\u001b[39m(\u001b[39m100\u001b[39m), desc\u001b[39m=\u001b[39m\u001b[39m\"\u001b[39m\u001b[39mValidating\u001b[39m\u001b[39m\"\u001b[39m)])\n\u001b[1;32m---> <a href='vscode-notebook-cell:/c%3A/Users/fmdaz/Desktop/RL_BPA2/tasks/dqn.ipynb#ch0000018?line=16'>17</a>\u001b[0m \u001b[39massert\u001b[39;00m _avg_reward \u001b[39m>\u001b[39m\u001b[39m=\u001b[39m \u001b[39m487.5\u001b[39m, \u001b[39mf\u001b[39m\u001b[39m\"\u001b[39m\u001b[39mAverage reward below 487.5, got \u001b[39m\u001b[39m{\u001b[39;00m_avg_reward\u001b[39m}\u001b[39;00m\u001b[39m\"\u001b[39m\n\u001b[0;32m     <a href='vscode-notebook-cell:/c%3A/Users/fmdaz/Desktop/RL_BPA2/tasks/dqn.ipynb#ch0000018?line=17'>18</a>\u001b[0m \u001b[39mf\u001b[39m\u001b[39m\"\u001b[39m\u001b[39mok (Average reward \u001b[39m\u001b[39m{\u001b[39;00m_avg_reward\u001b[39m:\u001b[39;00m\u001b[39m0.2f\u001b[39m\u001b[39m}\u001b[39;00m\u001b[39m)\u001b[39m\u001b[39m\"\u001b[39m\n",
      "\u001b[1;31mAssertionError\u001b[0m: Average reward below 487.5, got 9.44"
     ]
    }
   ],
   "source": [
    "# Test code\n",
    "policy = q_network\n",
    "policy.eval()  # Switch to evaluation mode\n",
    "\n",
    "\n",
    "def _rollout(seed):\n",
    "    env.reset(seed=seed)\n",
    "    state, done = env.reset(), False\n",
    "    while not done:\n",
    "        probs = policy(torch.tensor(state).float().reshape((1, -1)))[0]\n",
    "        action = np.argmax(probs.detach().numpy())  # Greedy action\n",
    "        state, reward, done, _ = env.step(action)\n",
    "    return env._elapsed_steps\n",
    "\n",
    "\n",
    "_avg_reward = np.mean([_rollout(seed=i) for i in tqdm(range(100), desc=\"Validating\")])\n",
    "assert _avg_reward >= 487.5, f\"Average reward below 487.5, got {_avg_reward}\"\n",
    "f\"ok (Average reward {_avg_reward:0.2f})\""
   ]
  },
  {
   "cell_type": "code",
   "execution_count": null,
   "metadata": {
    "pycharm": {
     "name": "#%%\n"
    }
   },
   "outputs": [],
   "source": []
  },
  {
   "cell_type": "code",
   "execution_count": null,
   "metadata": {},
   "outputs": [],
   "source": []
  }
 ],
 "metadata": {
  "kernelspec": {
   "display_name": "Python 3.10.4 64-bit",
   "language": "python",
   "name": "python3"
  },
  "language_info": {
   "codemirror_mode": {
    "name": "ipython",
    "version": 3
   },
   "file_extension": ".py",
   "mimetype": "text/x-python",
   "name": "python",
   "nbconvert_exporter": "python",
   "pygments_lexer": "ipython3",
   "version": "3.10.4"
  },
  "vscode": {
   "interpreter": {
    "hash": "2acf4f0090324737665649ffe9243adedff916aae6a3b4ad8e11f6862ed6c87f"
   }
  }
 },
 "nbformat": 4,
 "nbformat_minor": 2
}
