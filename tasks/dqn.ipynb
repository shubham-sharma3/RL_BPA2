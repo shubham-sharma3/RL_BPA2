{
 "cells": [
  {
   "cell_type": "markdown",
   "metadata": {
    "pycharm": {
     "name": "#%% md\n"
    }
   },
   "source": [
    "# RLLBC Bonus Point Assignment II Part B\n",
    "<div style=\"text-align: right;font-size: 0.8em\">Document Version 1.0.0, released 2022-06-24</div>\n",
    "For task instructions, refer to the assignment PDF.\n",
    "\n",
    "* The parts of the code you are to implement are indicated via `# TODO` comments.\n",
    "* You can use the `# Test code` cells to verify your implementation. However note that these are not the unit tests used for grading.\n",
    "* Some cells create export file in the `solution/` folder. _Include whole `solution/` folder in your submission_.\n",
    "* DO NOT CLEAR THE OUTPUT of the notebook you are submitting!"
   ]
  },
  {
   "cell_type": "code",
   "execution_count": 1,
   "metadata": {
    "pycharm": {
     "name": "#%%\n"
    }
   },
   "outputs": [
    {
     "name": "stderr",
     "output_type": "stream",
     "text": [
      "C:\\Users\\svenj\\miniconda3\\envs\\rllbc_bpa2\\lib\\site-packages\\scipy\\__init__.py:146: UserWarning: A NumPy version >=1.16.5 and <1.23.0 is required for this version of SciPy (detected version 1.23.0\n",
      "  warnings.warn(f\"A NumPy version >={np_minversion} and <{np_maxversion}\"\n"
     ]
    }
   ],
   "source": [
    "# General imports\n",
    "from pathlib import Path\n",
    "from copy import deepcopy\n",
    "import numpy as np\n",
    "import pandas as pd\n",
    "import matplotlib.pyplot as plt\n",
    "import seaborn as sns\n",
    "import gym\n",
    "from tqdm.auto import tqdm\n",
    "\n",
    "# Create solution folder\n",
    "Path(\"solution/\").mkdir(exist_ok=True)"
   ]
  },
  {
   "cell_type": "markdown",
   "metadata": {
    "pycharm": {
     "name": "#%% md\n"
    }
   },
   "source": [
    "## Question B1 - Deep Q-Networks\n",
    "### a) Implement Replay Buffer"
   ]
  },
  {
   "cell_type": "code",
   "execution_count": 2,
   "metadata": {
    "pycharm": {
     "name": "#%%\n"
    }
   },
   "outputs": [],
   "source": [
    "class ReplayBuffer(object):\n",
    "    def __init__(self, mem_size, state_shape):\n",
    "        \"\"\"Initialization of the replay buffer.\n",
    "        \n",
    "        The memories have the following data types:\n",
    "            states: float32\n",
    "            next_states: float32\n",
    "            actions: int64\n",
    "            rewards: float32\n",
    "            is_terminal: bool\n",
    "\n",
    "        Args:\n",
    "            mem_size: Capacity of this buffer\n",
    "            state_shape: Shape of state and next_state\n",
    "        \"\"\"\n",
    "        self.mem_size = mem_size  # Capacity of the buffer\n",
    "        self.mem_cntr = 0         # Number of added elements\n",
    "        self.state_memory = np.zeros((self.mem_size, *state_shape), dtype=np.float32)\n",
    "        self.next_state_memory = np.zeros((self.mem_size, *state_shape), dtype=np.float32)\n",
    "        self.action_memory = np.zeros(self.mem_size, dtype=np.int64)\n",
    "        self.reward_memory = np.zeros(self.mem_size, dtype=np.float32)\n",
    "        self.terminal_memory = np.zeros(self.mem_size, dtype=np.bool)\n",
    "    \n",
    "    def is_filled(self):\n",
    "        \"\"\"Check if the memory is filled.\"\"\"\n",
    "        return self.mem_cntr >= self.mem_size\n",
    "\n",
    "    def add(self, state, action, reward, next_state, is_terminal):\n",
    "        \"\"\"Add one transition to the buffer.\n",
    "\n",
    "        Replaces the oldest transition in memory.\n",
    "        \"\"\"\n",
    "        # TODO\n",
    "        i = self.mem_cntr % self.mem_size\n",
    "        \n",
    "        self.state_memory[i] = state\n",
    "        self.next_state_memory[i] = next_state\n",
    "        self.action_memory[i] = action\n",
    "        self.reward_memory[i] = reward\n",
    "        self.terminal_memory[i] = is_terminal\n",
    "        self.mem_cntr += 1\n",
    "\n",
    "    def sample_batch(self, batch_size):\n",
    "        \"\"\"Sample one batch from the memory.\"\"\"\n",
    "        # TODO\n",
    "        states, actions, rewards, next_states, is_terminal = [],[],[],[],[]\n",
    "        \n",
    "        for b in range(batch_size):\n",
    "            index = int(np.random.choice(self.mem_size, 1))\n",
    "            states.append(self.state_memory[index])\n",
    "            actions.append(self.action_memory[index])\n",
    "            rewards.append(self.reward_memory[index])\n",
    "            next_states.append(self.next_state_memory[index])\n",
    "            is_terminal.append(self.terminal_memory[index])\n",
    "\n",
    "        return states, actions, rewards, next_states, is_terminal"
   ]
  },
  {
   "cell_type": "code",
   "execution_count": 3,
   "metadata": {
    "pycharm": {
     "name": "#%%\n"
    }
   },
   "outputs": [
    {
     "name": "stderr",
     "output_type": "stream",
     "text": [
      "C:\\Users\\svenj\\AppData\\Local\\Temp\\ipykernel_4164\\2496942365.py:22: DeprecationWarning: `np.bool` is a deprecated alias for the builtin `bool`. To silence this warning, use `bool` by itself. Doing this will not modify any behavior and is safe. If you specifically wanted the numpy scalar type, use `np.bool_` here.\n",
      "Deprecated in NumPy 1.20; for more details and guidance: https://numpy.org/devdocs/release/1.20.0-notes.html#deprecations\n",
      "  self.terminal_memory = np.zeros(self.mem_size, dtype=np.bool)\n"
     ]
    },
    {
     "ename": "AssertionError",
     "evalue": "Duplicate transitions",
     "output_type": "error",
     "traceback": [
      "\u001b[1;31m---------------------------------------------------------------------------\u001b[0m",
      "\u001b[1;31mAssertionError\u001b[0m                            Traceback (most recent call last)",
      "Input \u001b[1;32mIn [3]\u001b[0m, in \u001b[0;36m<cell line: 20>\u001b[1;34m()\u001b[0m\n\u001b[0;32m     18\u001b[0m     np\u001b[38;5;241m.\u001b[39mtesting\u001b[38;5;241m.\u001b[39massert_array_equal(s_, \u001b[38;5;241m7\u001b[39m \u001b[38;5;241m+\u001b[39m np\u001b[38;5;241m.\u001b[39marange(\u001b[38;5;241m5\u001b[39m) \u001b[38;5;241m+\u001b[39m i, err_msg\u001b[38;5;241m=\u001b[39m\u001b[38;5;124m\"\u001b[39m\u001b[38;5;124mWrong next states\u001b[39m\u001b[38;5;124m\"\u001b[39m)\n\u001b[0;32m     19\u001b[0m     np\u001b[38;5;241m.\u001b[39mtesting\u001b[38;5;241m.\u001b[39massert_equal(t, (\u001b[38;5;241m12\u001b[39m \u001b[38;5;241m+\u001b[39m i) \u001b[38;5;241m%\u001b[39m \u001b[38;5;241m2\u001b[39m \u001b[38;5;241m==\u001b[39m \u001b[38;5;241m0\u001b[39m, err_msg\u001b[38;5;241m=\u001b[39m\u001b[38;5;124m\"\u001b[39m\u001b[38;5;124mWrong terminals\u001b[39m\u001b[38;5;124m\"\u001b[39m)\n\u001b[1;32m---> 20\u001b[0m \u001b[38;5;28;01massert\u001b[39;00m \u001b[38;5;28mlen\u001b[39m(_is) \u001b[38;5;241m==\u001b[39m \u001b[38;5;241m5\u001b[39m, \u001b[38;5;124m\"\u001b[39m\u001b[38;5;124mDuplicate transitions\u001b[39m\u001b[38;5;124m\"\u001b[39m\n\u001b[0;32m     21\u001b[0m \u001b[38;5;124m\"\u001b[39m\u001b[38;5;124mok\u001b[39m\u001b[38;5;124m\"\u001b[39m\n",
      "\u001b[1;31mAssertionError\u001b[0m: Duplicate transitions"
     ]
    }
   ],
   "source": [
    "# Test code\n",
    "_buffer = ReplayBuffer(10, (5, ))\n",
    "assert _buffer.mem_size == 10\n",
    "assert _buffer.mem_cntr == 0\n",
    "for i in range(10):  # Fill test values\n",
    "    _buffer.add(np.arange(5) + i, 5 + i, 6 + i, 7 + np.arange(5) + i, (12 + i) % 2 == 0)\n",
    "assert _buffer.mem_size == 10\n",
    "assert _buffer.mem_cntr == 10, \"Wrong mem_cntr\"\n",
    "\n",
    "_is = set()\n",
    "for s, a, r, s_, t in zip(*_buffer.sample_batch(5)):\n",
    "    i = s[0]\n",
    "    assert 0 <= i < 10, \"Wrong states\"\n",
    "    _is.add(i)\n",
    "    np.testing.assert_array_equal(s, np.arange(5) + i, err_msg=\"Wrong states\")\n",
    "    np.testing.assert_equal(a, 5 + i, err_msg=\"Wrong actions\")\n",
    "    np.testing.assert_equal(r, 6 + i, err_msg=\"Wrong rewards\")\n",
    "    np.testing.assert_array_equal(s_, 7 + np.arange(5) + i, err_msg=\"Wrong next states\")\n",
    "    np.testing.assert_equal(t, (12 + i) % 2 == 0, err_msg=\"Wrong terminals\")\n",
    "assert len(_is) == 5, \"Duplicate transitions\"\n",
    "\"ok\""
   ]
  },
  {
   "cell_type": "markdown",
   "metadata": {
    "pycharm": {
     "name": "#%% md\n"
    }
   },
   "source": [
    "### b) Fill replay buffer"
   ]
  },
  {
   "cell_type": "code",
   "execution_count": 4,
   "metadata": {
    "pycharm": {
     "name": "#%%\n"
    }
   },
   "outputs": [
    {
     "name": "stderr",
     "output_type": "stream",
     "text": [
      "C:\\Users\\svenj\\miniconda3\\envs\\rllbc_bpa2\\lib\\site-packages\\gym\\utils\\passive_env_checker.py:97: UserWarning: \u001b[33mWARN: We recommend you to use a symmetric and normalized Box action space (range=[-1, 1]) https://stable-baselines3.readthedocs.io/en/master/guide/rl_tips.html\u001b[0m\n",
      "  logger.warn(\n",
      "C:\\Users\\svenj\\AppData\\Local\\Temp\\ipykernel_4164\\2496942365.py:22: DeprecationWarning: `np.bool` is a deprecated alias for the builtin `bool`. To silence this warning, use `bool` by itself. Doing this will not modify any behavior and is safe. If you specifically wanted the numpy scalar type, use `np.bool_` here.\n",
      "Deprecated in NumPy 1.20; for more details and guidance: https://numpy.org/devdocs/release/1.20.0-notes.html#deprecations\n",
      "  self.terminal_memory = np.zeros(self.mem_size, dtype=np.bool)\n"
     ]
    }
   ],
   "source": [
    "env = gym.make('CartPole-v1')\n",
    "\n",
    "# Initialize replay buffer\n",
    "buffer = ReplayBuffer(mem_size=25000, state_shape=env.observation_space.shape)\n",
    "\n",
    "# ********************\n",
    "# TODO Sample transitions from environment and add to buffer\n",
    "while not buffer.is_filled():\n",
    "    # Run one episode\n",
    "    next_state, is_terminal = env.reset(), False\n",
    "    while not is_terminal:\n",
    "        # Take a step\n",
    "        # ********************\n",
    "        state = next_state\n",
    "        action = env.action_space.sample()\n",
    "        next_state, reward, is_terminal, _ = env.step(action) # Achtung Unterstrich\n",
    "        # ********************\n",
    "        \n",
    "        # Add step to buffer\n",
    "        # ********************\n",
    "        buffer.add(state, action, reward, next_state, is_terminal)\n",
    "        # ********************"
   ]
  },
  {
   "cell_type": "code",
   "execution_count": 5,
   "metadata": {
    "pycharm": {
     "name": "#%%\n"
    }
   },
   "outputs": [
    {
     "data": {
      "text/plain": [
       "'ok'"
      ]
     },
     "execution_count": 5,
     "metadata": {},
     "output_type": "execute_result"
    }
   ],
   "source": [
    "# Test code\n",
    "assert buffer.is_filled(), f\"Buffer not filled, only {buffer.mem_cntr}/{buffer.mem_size} transitions in memory\"\n",
    "\"ok\""
   ]
  },
  {
   "cell_type": "markdown",
   "metadata": {
    "pycharm": {
     "name": "#%% md\n"
    }
   },
   "source": [
    "## Question B2 - Deep Q-Networks\n",
    "### a) Define Q-Network"
   ]
  },
  {
   "cell_type": "code",
   "execution_count": 6,
   "metadata": {
    "pycharm": {
     "name": "#%%\n"
    }
   },
   "outputs": [],
   "source": [
    "import torch\n",
    "from torch import nn\n",
    "import torch.nn.functional as F\n",
    "\n",
    "class DeepQNetwork(nn.Module):\n",
    "    def __init__(self):\n",
    "        super(DeepQNetwork, self).__init__()\n",
    "        # TODO Create layers\n",
    "        # Inputs to hidden layer\n",
    "        self.hidden = nn.Linear(4,128)\n",
    "        # Output layer\n",
    "        self.output = nn.Linear(128,2) # EVentually add layers \n",
    "\n",
    "    def forward(self, state):\n",
    "        # TODO Implement forward pass\n",
    "        x = F.relu(self.hidden(state)) # Different functions?\n",
    "        Q = F.softmax(self.output(x),dim=1)\n",
    "\n",
    "        return Q"
   ]
  },
  {
   "cell_type": "code",
   "execution_count": 7,
   "metadata": {
    "pycharm": {
     "name": "#%%\n"
    }
   },
   "outputs": [
    {
     "data": {
      "text/plain": [
       "'ok'"
      ]
     },
     "execution_count": 7,
     "metadata": {},
     "output_type": "execute_result"
    }
   ],
   "source": [
    "# Test code\n",
    "_test_output = DeepQNetwork()(torch.FloatTensor([[1, 2, 3, 4]]))\n",
    "assert _test_output.shape == (1, 2), f\"Expected output shape (1, 2), got {_test_output.shape}\"\n",
    "\"ok\""
   ]
  },
  {
   "cell_type": "markdown",
   "metadata": {
    "pycharm": {
     "name": "#%% md\n"
    }
   },
   "source": [
    "### b) $\\epsilon$-Greedy"
   ]
  },
  {
   "cell_type": "code",
   "execution_count": 8,
   "metadata": {
    "pycharm": {
     "name": "#%%\n"
    }
   },
   "outputs": [],
   "source": [
    "def epsilon_greedy(state, q_network, epsilon=0.05):\n",
    "    \"\"\"Perform epsilon-greedy action sampling.\n",
    "\n",
    "    Args:\n",
    "        state: numpy ndarray, current state\n",
    "        q_network: torch module\n",
    "\n",
    "    Returns:\n",
    "        action: one action\n",
    "    \"\"\"\n",
    "    # TODO Epsilon-greedy action sampling\n",
    "    Q = q_network.forward(torch.tensor([state]))\n",
    "    #Q = q_network.forward(state)\n",
    "    if np.random.rand() < epsilon:\n",
    "        action = env.action_space.sample()\n",
    "    else:\n",
    "        action = torch.argmax(Q) \n",
    "\n",
    "    action = int(action)\n",
    "    return action"
   ]
  },
  {
   "cell_type": "code",
   "execution_count": 9,
   "metadata": {
    "pycharm": {
     "name": "#%%\n"
    }
   },
   "outputs": [
    {
     "name": "stderr",
     "output_type": "stream",
     "text": [
      "C:\\Users\\svenj\\AppData\\Local\\Temp\\ipykernel_4164\\4009505922.py:12: UserWarning: Creating a tensor from a list of numpy.ndarrays is extremely slow. Please consider converting the list to a single numpy.ndarray with numpy.array() before converting to a tensor. (Triggered internally at  C:\\Users\\builder\\tkoch\\workspace\\pytorch\\pytorch_1647970138273\\work\\torch\\csrc\\utils\\tensor_new.cpp:201.)\n",
      "  Q = q_network.forward(torch.tensor([state]))\n"
     ]
    },
    {
     "data": {
      "image/png": "[encoded data removed]",
      "text/plain": [
       "<Figure size 432x288 with 1 Axes>"
      ]
     },
     "metadata": {
      "needs_background": "light"
     },
     "output_type": "display_data"
    }
   ],
   "source": [
    "# Test Code\n",
    "class DummyModule(nn.Module):\n",
    "    def forward(self, state):\n",
    "        return torch.FloatTensor([1, 2])  # Constant output\n",
    "\n",
    "\n",
    "# Sample 1000 actions\n",
    "_actions = [epsilon_greedy(np.array([1, 2, 3, 4]), DummyModule(), epsilon=0.2) for _ in range(1000)]\n",
    "\n",
    "sns.histplot(_actions, discrete=True, stat=\"density\")\n",
    "plt.xticks([0, 1])\n",
    "plt.show()\n",
    "\n",
    "_zeros = 1000 - sum(_actions)\n",
    "# Note: This is a stochastic test. It produces a false error in 1% of the cases\n",
    "assert 75 < _zeros < 125, f\"Frequency of action 0 ({_zeros}) is outside the 99% confidence interval [76, 124]\""
   ]
  },
  {
   "cell_type": "markdown",
   "metadata": {
    "pycharm": {
     "name": "#%% md\n"
    }
   },
   "source": [
    "### c) Loss Function"
   ]
  },
  {
   "cell_type": "code",
   "execution_count": 11,
   "metadata": {
    "pycharm": {
     "name": "#%%\n"
    }
   },
   "outputs": [],
   "source": [
    "mse = nn.MSELoss()\n",
    "\n",
    "def compute_loss(q_network, target_network, states, actions, rewards, next_states, is_terminal, gamma=0.99):\n",
    "    # TODO Implement loss function\n",
    "    qvals = []\n",
    "    next_actions = []\n",
    "    target_qvals = []\n",
    "\n",
    "    for s, ns, terminal in zip(states, next_states, is_terminal):\n",
    "        qvals.append(q_network.forward(s)) # corresponding action?\n",
    "        next_actions.append(action = torch.argmax(qvals[-1]))\n",
    "        target_qvals.append(target_network.forward(ns))\n",
    "        if term:\n",
    "            target_qvals[-1] = 0\n",
    "            \n",
    "    expected_qval = []\n",
    "    for tq, r in zip(target_qvals, rewards):\n",
    "        expected_qval.append(r + gamma*tq)\n",
    "\n",
    "\n",
    "    loss = mse(qvals, expected_qvals)\n",
    "    return loss"
   ]
  },
  {
   "cell_type": "markdown",
   "metadata": {
    "pycharm": {
     "name": "#%% md\n"
    }
   },
   "source": [
    "### d) Training"
   ]
  },
  {
   "cell_type": "code",
   "execution_count": 12,
   "metadata": {
    "pycharm": {
     "name": "#%%\n"
    }
   },
   "outputs": [
    {
     "data": {
      "application/vnd.jupyter.widget-view+json": {
       "model_id": "0618e4386d294b269c8c82cd4920e61c",
       "version_major": 2,
       "version_minor": 0
      },
      "text/plain": [
       "  0%|          | 0/10000 [00:00<?, ?it/s]"
      ]
     },
     "metadata": {},
     "output_type": "display_data"
    },
    {
     "name": "stderr",
     "output_type": "stream",
     "text": [
      "C:\\Users\\svenj\\AppData\\Local\\Temp\\ipykernel_4164\\169056474.py:43: DeprecationWarning: In future, it will be an error for 'np.bool_' scalars to be interpreted as an index\n",
      "  terminal_batch = torch.BoolTensor(terminal_batch)\n"
     ]
    },
    {
     "ename": "IndexError",
     "evalue": "Dimension out of range (expected to be in range of [-1, 0], but got 1)",
     "output_type": "error",
     "traceback": [
      "\u001b[1;31m---------------------------------------------------------------------------\u001b[0m",
      "\u001b[1;31mIndexError\u001b[0m                                Traceback (most recent call last)",
      "Input \u001b[1;32mIn [12]\u001b[0m, in \u001b[0;36m<cell line: 18>\u001b[1;34m()\u001b[0m\n\u001b[0;32m     43\u001b[0m terminal_batch \u001b[38;5;241m=\u001b[39m torch\u001b[38;5;241m.\u001b[39mBoolTensor(terminal_batch)\n\u001b[0;32m     45\u001b[0m \u001b[38;5;66;03m# Compute loss\u001b[39;00m\n\u001b[1;32m---> 46\u001b[0m loss \u001b[38;5;241m=\u001b[39m \u001b[43mcompute_loss\u001b[49m\u001b[43m(\u001b[49m\u001b[43mq_network\u001b[49m\u001b[43m,\u001b[49m\u001b[43m \u001b[49m\u001b[43mtarget_network\u001b[49m\u001b[43m,\u001b[49m\u001b[43m \u001b[49m\u001b[43mstate_batch\u001b[49m\u001b[43m,\u001b[49m\u001b[43m \u001b[49m\u001b[43maction_batch\u001b[49m\u001b[43m,\u001b[49m\u001b[43m \u001b[49m\u001b[43mreward_batch\u001b[49m\u001b[43m,\u001b[49m\u001b[43m \u001b[49m\u001b[43mnext_state_batch\u001b[49m\u001b[43m,\u001b[49m\u001b[43m \u001b[49m\u001b[43mterminal_batch\u001b[49m\u001b[43m,\u001b[49m\u001b[43m \u001b[49m\u001b[43mgamma\u001b[49m\u001b[43m)\u001b[49m\n\u001b[0;32m     48\u001b[0m optimizer\u001b[38;5;241m.\u001b[39mzero_grad()\n\u001b[0;32m     49\u001b[0m loss\u001b[38;5;241m.\u001b[39mbackward()\n",
      "Input \u001b[1;32mIn [11]\u001b[0m, in \u001b[0;36mcompute_loss\u001b[1;34m(q_network, target_network, states, actions, rewards, next_states, is_terminal, gamma)\u001b[0m\n\u001b[0;32m      7\u001b[0m target_qvals \u001b[38;5;241m=\u001b[39m []\n\u001b[0;32m      9\u001b[0m \u001b[38;5;28;01mfor\u001b[39;00m s, ns, terminal \u001b[38;5;129;01min\u001b[39;00m \u001b[38;5;28mzip\u001b[39m(states, next_states, is_terminal):\n\u001b[1;32m---> 10\u001b[0m     qvals\u001b[38;5;241m.\u001b[39mappend(\u001b[43mq_network\u001b[49m\u001b[38;5;241;43m.\u001b[39;49m\u001b[43mforward\u001b[49m\u001b[43m(\u001b[49m\u001b[43ms\u001b[49m\u001b[43m)\u001b[49m) \u001b[38;5;66;03m# corresponding action?\u001b[39;00m\n\u001b[0;32m     11\u001b[0m     next_actions\u001b[38;5;241m.\u001b[39mappend(action \u001b[38;5;241m=\u001b[39m torch\u001b[38;5;241m.\u001b[39margmax(qvals[\u001b[38;5;241m-\u001b[39m\u001b[38;5;241m1\u001b[39m]))\n\u001b[0;32m     12\u001b[0m     target_qvals\u001b[38;5;241m.\u001b[39mappend(target_network\u001b[38;5;241m.\u001b[39mforward(ns))\n",
      "Input \u001b[1;32mIn [6]\u001b[0m, in \u001b[0;36mDeepQNetwork.forward\u001b[1;34m(self, state)\u001b[0m\n\u001b[0;32m     14\u001b[0m \u001b[38;5;28;01mdef\u001b[39;00m \u001b[38;5;21mforward\u001b[39m(\u001b[38;5;28mself\u001b[39m, state):\n\u001b[0;32m     15\u001b[0m     \u001b[38;5;66;03m# TODO Implement forward pass\u001b[39;00m\n\u001b[0;32m     16\u001b[0m     x \u001b[38;5;241m=\u001b[39m F\u001b[38;5;241m.\u001b[39mrelu(\u001b[38;5;28mself\u001b[39m\u001b[38;5;241m.\u001b[39mhidden(state)) \u001b[38;5;66;03m# Different functions?\u001b[39;00m\n\u001b[1;32m---> 17\u001b[0m     Q \u001b[38;5;241m=\u001b[39m \u001b[43mF\u001b[49m\u001b[38;5;241;43m.\u001b[39;49m\u001b[43msoftmax\u001b[49m\u001b[43m(\u001b[49m\u001b[38;5;28;43mself\u001b[39;49m\u001b[38;5;241;43m.\u001b[39;49m\u001b[43moutput\u001b[49m\u001b[43m(\u001b[49m\u001b[43mx\u001b[49m\u001b[43m)\u001b[49m\u001b[43m,\u001b[49m\u001b[43mdim\u001b[49m\u001b[38;5;241;43m=\u001b[39;49m\u001b[38;5;241;43m1\u001b[39;49m\u001b[43m)\u001b[49m\n\u001b[0;32m     19\u001b[0m     \u001b[38;5;28;01mreturn\u001b[39;00m Q\n",
      "File \u001b[1;32m~\\miniconda3\\envs\\rllbc_bpa2\\lib\\site-packages\\torch\\nn\\functional.py:1680\u001b[0m, in \u001b[0;36msoftmax\u001b[1;34m(input, dim, _stacklevel, dtype)\u001b[0m\n\u001b[0;32m   1678\u001b[0m     dim \u001b[38;5;241m=\u001b[39m _get_softmax_dim(\u001b[38;5;124m\"\u001b[39m\u001b[38;5;124msoftmax\u001b[39m\u001b[38;5;124m\"\u001b[39m, \u001b[38;5;28minput\u001b[39m\u001b[38;5;241m.\u001b[39mdim(), _stacklevel)\n\u001b[0;32m   1679\u001b[0m \u001b[38;5;28;01mif\u001b[39;00m dtype \u001b[38;5;129;01mis\u001b[39;00m \u001b[38;5;28;01mNone\u001b[39;00m:\n\u001b[1;32m-> 1680\u001b[0m     ret \u001b[38;5;241m=\u001b[39m \u001b[38;5;28;43minput\u001b[39;49m\u001b[38;5;241;43m.\u001b[39;49m\u001b[43msoftmax\u001b[49m\u001b[43m(\u001b[49m\u001b[43mdim\u001b[49m\u001b[43m)\u001b[49m\n\u001b[0;32m   1681\u001b[0m \u001b[38;5;28;01melse\u001b[39;00m:\n\u001b[0;32m   1682\u001b[0m     ret \u001b[38;5;241m=\u001b[39m \u001b[38;5;28minput\u001b[39m\u001b[38;5;241m.\u001b[39msoftmax(dim, dtype\u001b[38;5;241m=\u001b[39mdtype)\n",
      "\u001b[1;31mIndexError\u001b[0m: Dimension out of range (expected to be in range of [-1, 0], but got 1)"
     ]
    }
   ],
   "source": [
    "# Hyperparameters\n",
    "epsilon = 0.05  # For epsilon greedy action sampling\n",
    "batch_size = 64\n",
    "NETWORK_UPDATE_FREQUENCY = 4\n",
    "NETWORK_SYNC_FREQUENCY = 2000\n",
    "gamma = 0.99\n",
    "episodes = 10000\n",
    "replay_buffer_size = 1000 #TODO\n",
    "\n",
    "\n",
    "q_network = DeepQNetwork()\n",
    "target_network = deepcopy(q_network)\n",
    "optimizer = torch.optim.Adam(q_network.parameters(), lr=1e-3)\n",
    "mse = nn.MSELoss()\n",
    "\n",
    "step_count = 0\n",
    "total_rewards = []\n",
    "with tqdm(range(episodes)) as pbar:\n",
    "    for _ in pbar:\n",
    "        state, done = env.reset(), False\n",
    "        rewards = []\n",
    "\n",
    "        while not done:\n",
    "            # Take a step\n",
    "            action = epsilon_greedy(state, q_network, epsilon=epsilon)\n",
    "            next_state, reward, done, _ = env.step(action)\n",
    "\n",
    "            # Bookkeeping\n",
    "            rewards.append(reward)\n",
    "            buffer.add(state=state, action=action, reward=reward, next_state=next_state, is_terminal=done and env._elapsed_steps < 500)\n",
    "            state = next_state\n",
    "\n",
    "            step_count += 1\n",
    "\n",
    "            # Update network every NETWORK_UPDATE_FREQUENCY steps\n",
    "            if step_count % NETWORK_UPDATE_FREQUENCY == 0:\n",
    "                # Sample batch of transitions\n",
    "                state_batch, action_batch, reward_batch, next_state_batch, terminal_batch = buffer.sample_batch(batch_size=batch_size)\n",
    "                state_batch = torch.FloatTensor(state_batch)\n",
    "                next_state_batch = torch.FloatTensor(next_state_batch)\n",
    "                action_batch = torch.LongTensor(action_batch).reshape(-1, 1)\n",
    "                reward_batch = torch.FloatTensor(reward_batch).reshape(-1, 1)\n",
    "                terminal_batch = torch.BoolTensor(terminal_batch)\n",
    "\n",
    "                # Compute loss\n",
    "                loss = compute_loss(q_network, target_network, state_batch, action_batch, reward_batch, next_state_batch, terminal_batch, gamma)\n",
    "                \n",
    "                optimizer.zero_grad()\n",
    "                loss.backward()\n",
    "                optimizer.step()\n",
    "           \n",
    "            # Sync networks every NETWORK_SYNC_FREQUENCY steps\n",
    "            if step_count % NETWORK_SYNC_FREQUENCY == 0:\n",
    "                # ********************\n",
    "                # TODO Synchronize networks\n",
    "                target_network.load_state_dict(q_network.state_dict())\n",
    "                # ********************\n",
    "\n",
    "        total_rewards.append(sum(rewards))\n",
    "\n",
    "         # Print statistics\n",
    "        pbar.set_description(f\"Mean training reward {np.mean(total_rewards[-100:]):.02f}\")\n",
    "        if np.mean(total_rewards[-100:]) == 500:\n",
    "            break # Stop training\n",
    "\n",
    "# Save model\n",
    "with open(\"solution/b2d.pt\", \"wb\") as f:\n",
    "    torch.save(q_network, f)\n",
    "\n",
    "# Plot training\n",
    "plt.plot(total_rewards, label=\"per episode\")\n",
    "plt.plot(pd.DataFrame(total_rewards).rolling(100).mean(), label=\"average reward\")\n",
    "plt.xlabel(\"epoch\")\n",
    "plt.ylabel(\"reward\")\n",
    "plt.legend()\n",
    "plt.tight_layout()\n",
    "plt.savefig(\"solution/b2d.png\")"
   ]
  },
  {
   "cell_type": "code",
   "execution_count": 12,
   "metadata": {
    "pycharm": {
     "name": "#%%\n"
    }
   },
   "outputs": [
    {
     "data": {
      "application/vnd.jupyter.widget-view+json": {
       "model_id": "831a2679005b4e54adefdafa10f7589a",
       "version_major": 2,
       "version_minor": 0
      },
      "text/plain": [
       "Validating:   0%|          | 0/100 [00:00<?, ?it/s]"
      ]
     },
     "metadata": {},
     "output_type": "display_data"
    },
    {
     "data": {
      "text/plain": [
       "'ok (Average reward 500.00)'"
      ]
     },
     "execution_count": 12,
     "metadata": {},
     "output_type": "execute_result"
    }
   ],
   "source": [
    "# Test code\n",
    "policy = q_network\n",
    "policy.eval()  # Switch to evaluation mode\n",
    "\n",
    "\n",
    "def _rollout(seed):\n",
    "    env.reset(seed=seed)\n",
    "    state, done = env.reset(), False\n",
    "    while not done:\n",
    "        probs = policy(torch.tensor(state).float().reshape((1, -1)))[0]\n",
    "        action = np.argmax(probs.detach().numpy())  # Greedy action\n",
    "        state, reward, done, _ = env.step(action)\n",
    "    return env._elapsed_steps\n",
    "\n",
    "\n",
    "_avg_reward = np.mean([_rollout(seed=i) for i in tqdm(range(100), desc=\"Validating\")])\n",
    "assert _avg_reward >= 487.5, f\"Average reward below 487.5, got {_avg_reward}\"\n",
    "f\"ok (Average reward {_avg_reward:0.2f})\""
   ]
  },
  {
   "cell_type": "code",
   "execution_count": 12,
   "metadata": {
    "pycharm": {
     "name": "#%%\n"
    }
   },
   "outputs": [],
   "source": []
  }
 ],
 "metadata": {
  "kernelspec": {
   "display_name": "Python 3 (ipykernel)",
   "language": "python",
   "name": "python3"
  },
  "language_info": {
   "codemirror_mode": {
    "name": "ipython",
    "version": 3
   },
   "file_extension": ".py",
   "mimetype": "text/x-python",
   "name": "python",
   "nbconvert_exporter": "python",
   "pygments_lexer": "ipython3",
   "version": "3.9.12"
  }
 },
 "nbformat": 4,
 "nbformat_minor": 2
}
